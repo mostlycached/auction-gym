{
 "cells": [
  {
   "cell_type": "markdown",
   "id": "090120de",
   "metadata": {},
   "source": [
    "# Auction Playground"
   ]
  },
  {
   "cell_type": "markdown",
   "id": "f321a488",
   "metadata": {},
   "source": [
    "AuctionGym has several configuration options that detail the type of auction, how bidders behave. We will look at different bidder configurations and their impact on their own welfare, surplus and revenue. \n",
    "\n",
    "All you need to do is run the 4 simple steps below.\n",
    "\n",
    "**Note: Make sure to install the requirements using a virtual environment before booting up the notebook using instructions below**\n",
    "\n",
    "- python3 -m venv gympy\n",
    "- source gympy/bin/activate\n",
    "- jupyter notebook"
   ]
  },
  {
   "cell_type": "markdown",
   "id": "10700366",
   "metadata": {},
   "source": [
    "## 🚧 Step 1: Basic setup"
   ]
  },
  {
   "cell_type": "code",
   "execution_count": null,
   "id": "af5fa209",
   "metadata": {
    "tags": [
     "hide-input"
    ]
   },
   "outputs": [],
   "source": [
    "\n",
    "from collections import defaultdict\n",
    "import matplotlib.pyplot as plt\n",
    "import numpy as np\n",
    "from collections import defaultdict\n",
    "from main import parse_config, instantiate_agents, instantiate_auction\n",
    "from tqdm.notebook import tqdm\n",
    "from ipywidgets import interact, interactive, fixed, interact_manual\n",
    "import ipywidgets as widgets\n",
    "%matplotlib notebook\n",
    "# Parse default configuration file\n",
    "rng, config, agent_configs, agents2items, agents2item_values,\\\n",
    "num_runs, max_slots, embedding_size, embedding_var,\\\n",
    "obs_embedding_size = parse_config('../config/Mixed_FP_Oracle.json')\n",
    "\n",
    "# obs_embedding_size = parse_config('../config/SP_Oracle.json')\n",
    "config"
   ]
  },
  {
   "cell_type": "markdown",
   "id": "d016cf19",
   "metadata": {},
   "source": [
    "## ⚙️ Step 2: Interactively update auction configuration\n",
    "\n",
    "Run the cell below and you will see sliders and drop downs to make the auction your own :) \n",
    "\n",
    "*P.S: It doesn't let you override all the configs interactively yet. Feel free to update the configs directly for the ones that are not supported yet*"
   ]
  },
  {
   "cell_type": "code",
   "execution_count": null,
   "id": "fd3837b3",
   "metadata": {
    "scrolled": true,
    "tags": [
     "hide-input"
    ]
   },
   "outputs": [],
   "source": [
    "def auction_configurator(num_iter, num_participants_per_round, rounds_per_iter, allocation, bidder):\n",
    "    config['num_iter'] = num_iter\n",
    "    config['num_participants_per_round'] = num_participants_per_round\n",
    "    config['rounds_per_iter'] = rounds_per_iter\n",
    "    config['allocation'] = allocation\n",
    "    config['bidder'] = bidder\n",
    "interact(\n",
    "    auction_configurator,\n",
    "    num_iter=widgets.IntSlider(min=1, max=30, step=1, value=config['num_iter']),\n",
    "    num_participants_per_round=widgets.IntSlider(min=1, max=6, step=1, value=config['num_participants_per_round']),\n",
    "    rounds_per_iter=widgets.IntSlider(min=1, max=30000, step=1, value=config['rounds_per_iter']),\n",
    "    allocation=['FirstPrice', 'SecondPrice'],\n",
    "    bidder=['ValueLearningBidder', 'EmpiricalShadedBidder', 'TruthfulBidder', 'PolicyLearningBidder', 'DoublyRobustBidder']\n",
    ");"
   ]
  },
  {
   "cell_type": "markdown",
   "id": "83c785d7",
   "metadata": {},
   "source": [
    "## 🎉 Step 3: Run the auction \n",
    "\n",
    "*Note that it takes about 2-5 mins to run(mainly because some of the agents learns at the end of every iteration with a deep network). But once it runs, you can interactively explore the results.*\n",
    "\n",
    "*If the runs take too long, try reducing the number settings \"num_iter\" or \"rounds_per_iter\" to reduce the number of auction runs.*"
   ]
  },
  {
   "cell_type": "code",
   "execution_count": null,
   "id": "ca14820a",
   "metadata": {},
   "outputs": [],
   "source": [
    "agent_gross_utility_history = defaultdict(list)\n",
    "agent_net_utility_history = defaultdict(list)\n",
    "auction_revenue = []\n",
    "social_welfare = []\n",
    "social_surplus = []\n",
    "fig = plt.figure()\n",
    "fig, axs = plt.subplots(3, 1, constrained_layout=True)\n",
    "fig.suptitle('Auction Metrics', fontsize=16)\n",
    "\n",
    "axs[0].plot(auction_revenue)\n",
    "axs[0].set_title('Auction Revenue')\n",
    "axs[0].set_xlabel('Iterations')\n",
    "axs[0].set_ylabel('Revenue')\n",
    "\n",
    "axs[1].plot(social_welfare)\n",
    "axs[1].set_title('Social Welfare')\n",
    "axs[1].set_xlabel('Iterations')\n",
    "axs[1].set_ylabel('Welfare')\n",
    "\n",
    "\n",
    "axs[2].plot(social_surplus)\n",
    "axs[2].set_title('Social Surplus')\n",
    "axs[2].set_xlabel('Iterations')\n",
    "axs[2].set_ylabel('Surplus')\n",
    "plt.ion()\n",
    "\n",
    "fig.show()\n",
    "fig.canvas.draw()\n",
    "\n",
    "def run_auction():\n",
    "    # Instantiate Agent and Auction objects\n",
    "    agents = instantiate_agents(rng, agent_configs, agents2item_values, agents2items)\n",
    "    # Instantiate Auction object\n",
    "    auction, num_iter, rounds_per_iter, output_dir =\\\n",
    "        instantiate_auction(rng,\n",
    "                            config,\n",
    "                            agents2items,\n",
    "                            agents2item_values,\n",
    "                            agents,\n",
    "                            max_slots,\n",
    "                            embedding_size,\n",
    "                            embedding_var,\n",
    "                            obs_embedding_size)\n",
    "    for i in tqdm(range(num_iter)):\n",
    "        for _ in range(rounds_per_iter):\n",
    "            auction.simulate_opportunity()\n",
    "        # Log 'Gross utility' or welfare\n",
    "        social_welfare.append(sum([agent.gross_utility for agent in auction.agents]))\n",
    "        # Log 'Net utility' or surplus\n",
    "        social_surplus.append(sum([agent.net_utility for agent in auction.agents]))\n",
    "        \n",
    "        for agent_id, agent in enumerate(auction.agents):\n",
    "            print(f'Updating agent {agent_id} for iteration {i}')\n",
    "            agent.update(iteration=i)\n",
    "            agent_gross_utility_history[agent.name].append(np.sum(agent.gross_utility_trends))\n",
    "            agent_net_utility_history[agent.name].append(np.sum(agent.net_utility_trends))\n",
    "            agent.clear_utility()\n",
    "            pass\n",
    "        \n",
    "        # Log revenue\n",
    "        auction_revenue.append(auction.revenue)\n",
    "        auction.clear_revenue()\n",
    "        \n",
    "        # Interactive visualization\n",
    "        axs[0].clear()\n",
    "        axs[1].clear()\n",
    "        axs[0].plot(auction_revenue)\n",
    "        axs[0].set_title('Auction Revenue')\n",
    "        axs[0].set_xlabel('Iterations')\n",
    "        axs[0].set_ylabel('Revenue')\n",
    "        axs[1].plot(social_welfare)\n",
    "        axs[1].set_title('Social Welfare')\n",
    "        axs[1].set_xlabel('Iterations')\n",
    "        axs[1].set_ylabel('Welfare')\n",
    "        axs[2].plot(social_surplus)\n",
    "        axs[2].set_title('Social Surplus')\n",
    "        axs[2].set_xlabel('Iterations')\n",
    "        axs[2].set_ylabel('Surplus')\n",
    "        fig.canvas.draw()\n",
    "        \n",
    "        \n",
    "    print(f'Number of iterations: {num_iter}. Number of rounds per iteration {rounds_per_iter}')\n",
    "    print(f'Total opportunities: {num_iter * rounds_per_iter}')\n",
    "    print(f'Total agents: {len(auction.agents)}')\n",
    "    return auction\n",
    "auction = run_auction()\n",
    "plt.close()"
   ]
  },
  {
   "cell_type": "markdown",
   "id": "76220fa0",
   "metadata": {},
   "source": [
    "## 🔮 Step 4: Analyze the results"
   ]
  },
  {
   "cell_type": "code",
   "execution_count": null,
   "id": "19ffc789",
   "metadata": {},
   "outputs": [],
   "source": [
    "plt.figure()\n",
    "[plt.plot(agent_gross_utility_history[a.name], label = f'Gross Utility for {a.name}') for a in auction.agents]\n",
    "plt.legend(loc=\"best\");"
   ]
  },
  {
   "cell_type": "code",
   "execution_count": null,
   "id": "28fd8b29",
   "metadata": {},
   "outputs": [],
   "source": [
    "plt.figure()\n",
    "[plt.plot(agent_net_utility_history[a.name], label = f'Net Utility for {a.name}') for a in auction.agents]\n",
    "plt.legend(loc=\"best\");"
   ]
  },
  {
   "cell_type": "code",
   "execution_count": null,
   "id": "364f269e",
   "metadata": {},
   "outputs": [],
   "source": [
    "plt.figure()\n",
    "plt.plot(auction_revenue, label='Overall Auction Revenue')\n",
    "plt.plot(social_welfare, label='Overall Social Welfare')\n",
    "plt.plot(social_surplus, label='Overall Social Surplus')\n",
    "plt.legend(loc=\"best\");"
   ]
  }
 ],
 "metadata": {
  "kernelspec": {
   "display_name": "Python 3",
   "language": "python",
   "name": "python3"
  },
  "language_info": {
   "codemirror_mode": {
    "name": "ipython",
    "version": 3
   },
   "file_extension": ".py",
   "mimetype": "text/x-python",
   "name": "python",
   "nbconvert_exporter": "python",
   "pygments_lexer": "ipython3",
   "version": "3.9.16"
  }
 },
 "nbformat": 4,
 "nbformat_minor": 5
}
